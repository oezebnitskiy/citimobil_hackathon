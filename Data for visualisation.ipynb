{
 "cells": [
  {
   "cell_type": "code",
   "execution_count": 49,
   "metadata": {},
   "outputs": [
    {
     "name": "stdout",
     "output_type": "stream",
     "text": [
      "/home/hwlcrd/mounted/Desktop/VM/seed/pets/citimobil_hack\r\n"
     ]
    }
   ],
   "source": [
    "!pwd"
   ]
  },
  {
   "cell_type": "code",
   "execution_count": 2,
   "metadata": {},
   "outputs": [],
   "source": [
    "import pandas as pd\n"
   ]
  },
  {
   "cell_type": "code",
   "execution_count": 10,
   "metadata": {},
   "outputs": [
    {
     "data": {
      "text/plain": [
       "0            9/1/2014 0:01:00\n",
       "1            9/1/2014 0:01:00\n",
       "2            9/1/2014 0:03:00\n",
       "3            9/1/2014 0:06:00\n",
       "4            9/1/2014 0:11:00\n",
       "                  ...        \n",
       "1028131    9/30/2014 22:57:00\n",
       "1028132    9/30/2014 22:57:00\n",
       "1028133    9/30/2014 22:58:00\n",
       "1028134    9/30/2014 22:58:00\n",
       "1028135    9/30/2014 22:58:00\n",
       "Name: Date/Time, Length: 1028136, dtype: object"
      ]
     },
     "execution_count": 10,
     "metadata": {},
     "output_type": "execute_result"
    }
   ],
   "source": [
    "uber['Date/Time']"
   ]
  },
  {
   "cell_type": "code",
   "execution_count": 59,
   "metadata": {},
   "outputs": [
    {
     "name": "stdout",
     "output_type": "stream",
     "text": [
      "Id,main_id_locality,ETA,RTA,OrderedDate,latitude,del_latitude,longitude,del_longitude,EDA,RDA,ReadyForCollection,ClientCollected,GoodArrived,ready_latitude,ready_longitude,onway_latitude,onway_longitude,arrived_latitude,arrived_longitude,center_latitude,center_longitude,route,track\r\n",
      "0,1078,226.0,188.0,2020-02-12 19:12:06,55.82601928710938,55.82558059692383,49.13452911376953,49.12694931030274,1.0,1.0,2020-02-12 19:14:33,2020-02-12 19:15:06,2020-02-12 19:18:14,55.825647399999994,49.1341149,55.82626070000001,49.134137,55.825706499999995,49.1271359,55.7943877,49.1115312,gnvsIaq{jHChA??uC???OPG^F^NRzKBd@AN[r@???`@`@`@F??D~@CrT??gAEeGB??A`I??cAB???`CC\\,io{jHkivsID_A??A}@i@m@I]^SFKBK@AD@@????A?@??A@EA@GV_Ah@Wp@JLr@B`A?bAAfA?`AAz@?h@JL??XGDe@Go@Am@I]Hk@?s@?u@@s@J_@n@ElABpA@dA?bAAt@Ix@Cn@?d@Af@@lA@xAB|@?v@Ap@Az@EvAAtADf@F?\\G\\\r\n",
      "1,1078,718.0,725.0,2020-02-12 19:12:22,55.79550170898438,55.8209114074707,49.1314697265625,49.11536026000977,5.0,6.0,2020-02-12 19:19:03,2020-02-12 19:19:42,2020-02-12 19:31:47,55.795591200000004,49.1322806,55.7955442,49.131552,55.82153050000001,49.1156849,55.7943877,49.1115312,sqpsI}~zjHyAr]e@lMk@fLaBlb@i@rLKhBCdAUxEGlCg@fM??iGFi@NwA`AwChCkCzAYHYBuAEYBWLMXKn@IbB?vBLbCH|@??KlAlAbHFdAEz@Ur@c@^_A\\yBf@c@LyABeAAmA[kC]sMy@sDOmMcAaCKw@?y@X??gCN]Ic@Uw@k@??uAiEeB{E??e@aByCaIaFkMs@}B??MNc@DeAVyF@{ECy@KqBD???uH??\\??eHy@wAk@_B?}EoA?,qh{jHappsIAAA?\\EVSLAC@r@I????h@ERAL?R?x@Cf@ARDCLM@AA??A?CAAA??A?AAA?C?K@kA?yAH}@BcBFaADsAF_@BK@G?C@???A??A?C?C?@?K@a@Be@@}@Dk@@s@DoAH{@B}AFaADgBH}@Fu@Hm@DY?M@B?KKn@E`BGpBGlBG~AMt@E`@ADAAA@@??D?v@A|AGlAEbCM~AG`BGnCMlCMtAGhAEdBGdACVAh@CjAEtAItBIvBInAGzBKnAIlAGjAElBK`AEj@K@UU]U}@Om@Ka@L]\\EHAVAbAEtAG~BKjCItCKrCIfCIfA@h@A~AC~BKrCKbDIfDKxCQfBMtCQhCW|AO|AMfCS~BOpAKrAK`BK^GPSLYl@w@b@i@z@_Af@k@r@iAb@s@b@kAEq@GaAZc@bB]~BEnC@jCJ~ALxAV`Cb@vBRfB[f@cANq@^iALq@Fu@MuASwAQ}AIaAKaBEaAEcAI_BK_BGaAE_AGaAMaBK}AE{@KuAIqAEm@Ee@Gg@MeABaAN}@Le@Ja@Hs@Ww@i@c@y@]mAi@q@Yi@Sq@WQGKEA?A?A?@?A???UAKAE??AT@CG[Og@Sk@UiAc@yAg@_A_@yAm@yAi@wAg@_A[wAk@kAe@gAa@s@WQG?CVMVMBAC@C@DDTHD@??AAMD_A@o@Sq@QuA[mBUqAGaCEwAAgC@mC?oC?aC?y@?O????A????A?A?GEBGB[AS?[Em@Cs@Ly@Do@DoADs@BeAAc@Og@GYCm@Cm@?k@?c@@s@Do@Dk@BY?[?IA?A???RE\\AX@l@?TD?@?@?@@B@BAB?@?BABU[GECEAA??AAAEAAGJi@@WCE?E@@A\r\n",
      "2,1078,612.0,764.0,2020-02-12 19:12:44,55.79104995727539,55.81996154785156,49.22607040405274,49.17662811279297,5.0,5.0,2020-02-12 19:15:21,2020-02-12 19:15:25,2020-02-12 19:28:09,55.791098700000006,49.226066100000004,55.791098700000006,49.226066100000004,55.81976510000001,49.1774323,55.7943877,49.1115312,auosI}mmkH?LHd@KhC??o@w@[g@m@iAUk@??{G|OiB`Ek@~AI\\??dChChBtB??Kt@AfC??cAZq@ZkCxAkAx@wH|Ha@f@eGxGiFhG{@pAqD~EOPMPq@z@kBnC}BfCy@fAaMlOqBnC{G`IuJzL{@jA}AhB_FhG??cD`EoBhCYf@kAzBwAbESr@c@bC{B~QkCfSqD~YkAnK{@bHMt@e@jB_@dAa@z@IL??k@v@{AbBcA|AkBfDuBhDmAbB[\\iA`Bg@|@eBtD??a@Oe@PeAh@??v@iG,}mmkHkuosI????????????????????????????????K?O@S@Q?GA@?DAFAHALAH?H?JAHAB?H?JBD@B?H@F@BA@ADAHAB?@@F@B?D?FAH?D?F@@@@?????????AE@CBAB????MEUi@c@a@U_@OSIGC?@??????????????CCQEEE??GCDKXG`@Kt@]h@Wl@YhAg@p@Yh@UZMVMt@]h@Ul@WhAe@p@Wn@Yv@_@XIP?H@\\J\\^X^^b@v@v@^^^Xx@NdAEn@ILGHSJ_@`@}@`@}@\\e@d@g@f@k@dAkApAkAv@s@tAqAvAsAvAsAv@u@nAiAnAeAnAgAnAcAt@m@lAaAr@i@lAaAlA_Ar@m@nAmAzAmA~@u@zAoAbAq@|AmAbBmA`Au@bBqAzAsA~@w@|@u@~@s@tAmAt@o@tAeAtAeAxAiAzAiAxAkAvAiAv@q@v@m@nAaAjA_Ap@g@dAw@`@]b@_@PMDG?AA???????????HI`@W\\SZW\\Yv@m@h@e@~@w@l@g@pAaAzAcAbAk@lBy@nAe@rBm@hBa@hAOxBWxAObC]pC]dBUjBSdDa@jDc@nBWrBWpBYpBWfDa@`D_@dBU`BSdC[lAOpBUnAOrBWlAMtBUpBY`AWxAg@jAi@t@k@^c@FG????DEJMRQ\\YVQZUj@e@h@c@fB}@z@e@h@_@?k@aAe@]QPIn@Mf@O??~@W^O@UIKC????????????????????????????????????????????????????A?OGH@A??@@????@?A?A????@C?F?DB@?@I?AQA@?@?C?D@@@C?CAC?E?I??AFATDH?D@@A@C?E\r\n",
      "3,1078,1560.0,1412.0,2020-02-12 19:12:44,55.75389862060547,55.82468032836914,49.18851852416992,49.09370040893555,13.0,14.0,2020-02-12 19:19:00,2020-02-12 19:19:09,2020-02-12 19:42:41,55.754116,49.1888527,55.754116,49.1888527,55.824734400000004,49.094013399999994,55.7943877,49.1115312,{lhsIiffkHmKN_C?mIPwMJ??Si@gA{B??Wq@MRCJTp@hAdCPh@N~@j@vG\\dCf@nBt@bBn@hA|HfLf@dAVx@JfAn@nIpBtYXpCd@fCp@lCb@rAv@nBn@pA|JxPh@lAVx@Jl@\\rCPxB^jDRdAh@dEElA??KZa@Le@Jm@CqFYqB@YRs@HaARgKjAcFt@yBn@cA^_Br@iEbB??mFbCuDrAoChA??oB`AcC|BgU|V_E|EqOjRiGlHsEzF{HtJiAlBcClGe@vA??oBnFKr@wGlQc@nAcInTgFdNwAzDqA`E??wEjO??}Lr\\yBv@??qBbG??YbAyAdEk@tAoQbe@wJxYwGnTa@l@mAnA]n@??w@nBgEbEaBzAyC~C??nB|I??aAb@m@Ns@F_ACgEa@uAK{AOgA?}@J??gATwCz@_B`@w@Fu@EgD{@kC]sMy@sDOmMcAaCKw@?y@X_B|@mAbA??wBfBqFpDc@\\mDzB??aDnBsHjE_@bAa@d@??]Ik@HiBnAcAf@gAb@_CfA_AZu@PwAh@cJtCgAb@mA`@{CfA??LfBb@Q??Dj@q@T,gefkH{{hsIQr@Gn@GlAAr@Ct@@^@J@ZFf@FVHHDD??????????????????????????ABAFENMl@E~@Af@Dz@?dA?pAAt@?~@A\\Ef@AT?J@B????B@DFJHJB^HxADlA?t@@`A?z@@r@?L?A?@?HAd@Av@@jBHhABxABn@@p@BpABxA?tA?pA?nA?r@Ax@@pA@r@@T@f@?d@@n@?`A?`@GPQAs@Ag@@cAAu@BYLS`AAxBLxAFjBFdADzA@fABl@@t@Bp@Hl@NtA\\bAVjARfBNlBNtALbCTrAFxA?dCUrA[|Bi@rAWlAQ~BShCGvAAhAAnACr@ONYAa@a@g@}@YkAWs@KwASoAQGKH?B?@@DAREl@DnBRpCVjAP|@N^DH@PDVBR?R?D?LAl@K~@k@Hm@QwAOcBEiB@_AH}AR}ANeAViBVgBXkBNeAPcAZcBV_Al@}Av@_B^}@l@{Ah@uA\\y@\\{@h@uAh@uAn@wA\\{@N]^y@r@wAfAuApAqAv@y@`A{@hBcB`AeAjB{AfBuA~@{@`BwA~@{@`A}@dBsAfByAbBuA`Ay@dBwAfAy@fAy@dBuA`Ay@~AsAbAw@dByAdByAdA_AbByAdB{AbA}@fB{AhByAtBmAjCeAtCaA`Bk@rCcA`Bm@zCaAbBm@~Am@~Am@|Ak@hCaA|Ai@|Am@dC_AnAc@tAg@f@S^STKLE??????????????????PIRK@Q[SiAk@{@g@cBcAiAo@sBkAoBiAuBeAaCy@}Aa@_B[eCc@wAW]MAW^_@`Aq@h@a@h@g@VQHYu@_@aAWkBc@{@Yg@UBQB??@?B??????@E?O?]Ae@Ck@?_AFo@?a@Cs@?g@@U?A???????????????A@QDc@H_ADeABk@Fi@Ni@z@u@v@YzAShA?vBIpB?bBZhAT`C^vATdCb@hCb@xAV~AVzAV~B^jATz@L|@Jd@J?@A???????????B@n@J~AXnARvATfCb@|B`@rAV~B^xARxAX|AVhC\\jCPrCJ~AFpBF|@@l@GXEFCAA??????????????????????????????????????????????????@?XC~@Wz@YdAe@~Au@`AYbBYz@Yl@[v@[TGRGDEAAD?x@S`Bk@dBq@zAi@nAe@jBu@rAk@d@Qb@Qj@ULEA?A?A??AFETGB?@@JCRGD???????HAl@QpAk@`Ac@fAc@hBs@dBm@`Bq@dA_@hBq@fA_@hBo@dBm@bBi@x@Wx@WFG@AFATCh@KlA]lAa@tAe@z@Y`A[`A[`Bg@xAi@x@a@p@i@|@w@bAYzAOhBGdBKnAGt@IVEJCC?A???????????????????JANCLCb@QVO\\YZU|@q@hA}@r@o@bAqAXaANiAEoBYmBOcBIaAEeBLkBj@kBn@iBd@eBF}@[}Aa@eAYkAYoBIiAGgAGgAEgAOmBIgAIiAMkBIgAIeBGcAEcAG_AM}AEwABoAJo@Tk@NQFCA@??????DGLUXc@j@m@p@u@`@e@b@k@x@eAr@aAt@eAr@cAv@kAh@}@bA{Az@uAl@kAp@sAx@uAd@w@b@u@b@q@d@w@|@wAd@{@b@y@`@w@f@{A`@sAb@oAXy@Z{@\\{@j@uAb@sA`@oAVs@b@mA`@gATu@JQPGP@FD?B??????????????@?NH\r\n",
      "4,1078,1528.0,893.0,2020-02-12 19:12:45,55.82236099243164,55.78675842285156,49.069091796875,49.14350128173828,9.0,10.0,2020-02-12 19:16:32,2020-02-12 19:17:26,2020-02-12 19:32:19,55.82248320000001,49.069658600000004,55.8226173,49.0692288,55.7869358,49.1433302,55.7943877,49.1115312,yxusI{xnjHgAfG??}IuHkAqA??pIoe@VsA??dAkG`BuH??PcAcDkK??GQ??A_@u@sCmFcQw@aD??hB_A`Ak@bGwCnA{@n@w@~@gBVs@t@oArByCzAaCLYp@uBTqAJ_A|@gMLwBR}A~@wDt@cCn@uAf@_A`@e@d@EhAo@~OuJnGiE`DmC??tA_Ah@[d@S|@Wr@I|A@rDVhNv@dO`ApBZzDdAb@Dd@Cr@K|GiB??bAQp@CbKv@jAF~A@r@I~Ai@n@]l@g@b@i@p@kA??dRuSzDeErB}BbAoAZYbE_Fr@iAxAmCxDuGb@w@bEgH~HmNvEgIf@eA??qAqB??aG_JwAcCm@_AqCgFgA}B??l@eB??bA}CZqAL}@F_A?}A]oG]_Fa@aDaA}FkDgS_A}FyBuMkA{GkBkLCi@?i@??b@mDRiAPm@Rc@\\a@p@k@j@ObKQhBIr@?,synjHkzusIHAA?E@C?????????????????????????DAREXO?M[]WYOOIIK?OFADC@C@SD[HSDc@L[He@JS@UOc@YOUg@g@[Yc@g@UUQMCKSUOMOI[Ec@BaAN{ATkANsAPeC^yATeCb@sATiBZm@L_@H????@?@???C@ODIDCD??E@SDe@Ju@Nm@Le@Jq@Na@Jk@Li@Nk@Na@Dc@@w@Om@O{@SiA[u@SyAc@gBi@wBq@sBo@iA]gA_@kA]qBo@uBq@qBo@oA]qA]uBa@uAYcCi@sA[sBg@kAYsBg@qBi@aCa@gCSkCQ{AIyAKiCO}AIoCEkC?iCBiA?uA?}@@i@?g@?]?c@?[?aA@u@@oA@sA?y@AaBAkB?iA?yA?c@@_@?e@?]?UAI?A???@???????????????W?m@?e@Ay@?w@AmA?s@A_B@oA@iC@gB?kD?}B@_C?yD@wDBuB@sB@mDFsDBkD@mB?gBAaBA}BAkA?gBAcA?cB?gAAU???@???????????????????????????K?SAw@?i@?gAAw@A}@AgB?qBAqAAqAAoCC_DC{AAyB?uA@uA?yA?iC?cB?eB?yCAiB@iB?wCBaB?_B@aC?}AF_@VA\\B|@@jABvA@~@A`AC`AIxAKrA?|@BbA?nBArA?xA@zAEdCCxACbC?zACnC?bB@~A?fCAtA@zB@hAF|A@dB@dA@dBAbBKbBOfA]dA]hA_AjBqAhB_A~@eAz@eAt@iAp@{BfAwAl@oC|@sCt@}Cl@}Cl@cDj@eDj@aDh@_Dh@}Cf@iBZiBZ}Cj@kCn@}Af@_C|@sBdAgBjAyApAeArA_AvAi@z@k@z@i@x@aAzAk@|@aA`BgAbB}@`Bk@`AcAdB}@fB_AfBm@hAk@fA{@hBo@fBYhAUlAShAMdAJbBdAvAz@t@bBvA|AxAv@|@~@xA\\z@d@zALx@Pz@V|AL|ALx@Nn@Jn@Lj@Jl@P`ALj@T~@Lf@Pl@FRFNFN@F@HDF\\Ht@Cp@Gf@El@Cr@E~@Cn@Cn@Cn@Cz@En@Ad@Az@Dh@BfA@r@?nA?jA?\r\n",
      "5,1078,988.0,957.0,2020-02-12 19:12:47,55.83420944213867,55.82624816894531,49.08089828491211,49.13459014892578,6.0,10.0,2020-02-12 19:18:50,2020-02-12 19:18:56,2020-02-12 19:34:53,55.833882700000004,49.0807649,55.833882700000004,49.0807649,55.82584470000001,49.13447410000001,55.7943877,49.1115312,ybxsIecqjH?cB??bAH?{Ko@???@gB??zA?f@C??IcAK}@uEoZc@{DIsADq@Cs@SeD{@eQuAeWi@sKIyAI_@??C_ABm[Ha@?mxABum@?sKCcD@wO??vAE`JG~JNbBAtIQbLE|@@bBK`IBvED??`@`@`@Fp@FpGB??f@[Jg@AQKWc@]{HDyAb@??iD???Oa@iD@??wA?,a_qjHu~wsI@LIFQCCSKq@IIc@EC@????????C???B@??@?BAC?A???????????ACUEEEB?@????GJYHg@Ci@Ae@B}@?k@?k@IkACm@Eg@Gk@AUCSACA?????????????IOK[Bg@B]Ba@Gy@E_AC_AAk@CaAEk@Cm@Em@GcAUaAs@y@m@c@_Au@i@_@w@i@q@e@m@[e@Ua@Yw@[s@MwAWyA_@u@_@k@e@W_AAk@J{@Zu@Pi@VaALk@VeAReATaAHe@AUUMGNCPGXI\\O`@a@t@}@v@}@`@kAZwAL{AJwCTiBFsBEgDOqDO{DO{BIoDQwBKyBKiDUsBMwCOoAIaAGmAGo@EKA@?@?????_@EkAI{AGcBIsBKyAIiCOcBKcBIeBI}CQmBKmBIkDQgDQqBKkDQsBKqBMgDQmDOiDQuBKkDQsBMqBMeDSkBQmBOoBKeDM{COyCSuCQ}COcGWjBHyES{VeAkBK_DQkBKiBI{COgBIaBK}AQsA[oA_Ac@mAFsAT{@Ry@j@iA\\]TUDE@AAGAEBK?GCGIKWO{@MsAL_@b@Ij@Ip@Qr@YfAOn@UhAQr@Qv@WpAOr@a@rAOp@Ij@M`AIn@MpAKtAOvAE~@E~@ExA?v@BlADr@Dr@FhA?t@@jA@n@?r@CrAA~@B`ADrA@r@A~@@j@BT?FAB?A??????????CN?XAl@Cv@Aj@An@?dA?fAChA@jA?`A@`@BX@T?@@A???????????????????@CAA????A????????????????????NXETCn@Cd@@z@?r@?n@A|@?d@@dA?t@?v@?pADx@FrAFtABx@?x@CtACrACrAAr@BlAAr@@p@@bAE|@I~@Kr@Ef@m@Zu@BViADm@AiAEs@Iy@AoA?o@@o@BaA@i@H{@@s@Co@CcAA_@A[FKLKJGJ?R@?@FBJJB\\C\\Kj@Ev@E`A@hADr@DtA@z@Az@GrA?v@@x@DxAD|@@xACvA@xAC|ABzAFz@HrABv@Ft@LxAAp@EpA?lANn@QX_@Fw@M[O@e@A]A]?a@A_@Eq@Ia@?g@BaABm@DkA\r\n",
      "6,1078,817.0,469.0,2020-02-12 19:12:47,55.8289794921875,55.82564926147461,49.1173210144043,49.15312957763672,5.0,3.0,2020-02-12 19:13:05,2020-02-12 19:14:21,2020-02-12 19:22:10,55.829069999999994,49.1172415,55.829069999999994,49.1172415,55.825725399999996,49.1528951,55.7943877,49.1115312,cbwsIifxjHnApC??|@qB??lAhC??Mj@Fr@PRH@lAEj@r@??AfH@ri@CvM?|V???bAd@k@e@W?bAd@k@AuW@knBEst@Bk[E{JAs^@o_@F_FF}AVqDXeC|@sFNq@??b@X??fAuF??l@f@??YbB,wexjHqbwsI???@??@??A??AA??@?A???@A@?HAJANATHTJZNXNVJZLZPb@R^NLF@BAJMBKFK^@TAb@W\\a@Fi@Ei@Kw@Be@FeAFu@@aBAgBG{@Kq@QSG?AA?GACAEAKEEAA?CAECUKYMa@Ow@]o@_@OKWG]FQX@B???B@\\Hx@Av@?T@F@A?A??????@?A?@?????????A??????????????????????????????????????????????FBN@ZK`@w@VeAAmAC{A?eDAuB?wB?yD?yB?{B?uDAuD@}DCaE@cC?}DA_E@gD@eDBmDAsDAyBA_C?iEC}E@aC@_E?_C?uDAsB?qB?aD@wB@wB@cA?cA?oB?kA@oA@uA@eCDoFX~BQwPzEF@iDCNBdC?H?A@K@UB[BG?\r\n",
      "7,1078,1229.0,1119.0,2020-02-12 19:12:56,55.83528137207031,55.7515983581543,49.13227844238281,49.18008041381836,12.0,12.0,2020-02-12 19:18:25,2020-02-12 19:18:51,2020-02-12 19:37:30,55.83531429999999,49.1311376,55.83523879999999,49.1314435,55.7522425,49.1801744,55.7943877,49.1115312,qixsI_d{jHRIbCDj@C??Cc@?w@Es@??jJK|BF~@???Pi@LMZM??`@SrHObLE|@@bBK`IBbDDtMBlN?PApEBhPClPEzBIrASnA]dBs@lAw@~@u@p@s@tAcBpAuBdAwBfAuCp@yBv@mDpByK??xG_`@x@}Cp@mBbA}B~@cBhAuAb@e@v@s@bAs@tDeC??tK_HnTgLfDmAbFgAhAKn@Dn@Zr@p@jErEd@b@\\XxA~@p@XtFlAdAP~A@\\F~HfBbDn@\\JfC~@`Ab@bC`AjClA`CrAt@f@vItI|@v@~AhAjAh@bAZpAT~BXpATfAXhB`AhAx@zArAX\\??rAnBz@~A??YbAmBpF_A~B??{B}D??Ga@A[@k@ZWlBaF??nCkHhA{BlAmB~CyD`C{Cv@y@zBmCzJ{LlDoE`KaMxVqXhB_Br@e@tAw@jCmAVIzD_BnEoBlJyDxBo@hK{AxEm@bACv@J??^LdBNbALrDRhBL??Pl@\\h@PNRFR@\\O^c@Ri@D]DgAAe@Oy@O]YcC?{AHqBDeFNuDPeBZoBrAyGLoB@m@KcEk@wGQ_AMmASoA_@wAQaAQ}Aa@{NA{C??_@AuAB??E_D??pAJ??bCA,o~zjHkixsI?B?@?@?????????????C@C@?????CLIP?B?@???@???????????FEXERB^ALUFg@?}@@k@@Q?GB?NMFM@m@Gc@?M?C?CE@?SC_@MOAIBGJCREf@A^Ct@H`AAn@Cn@Lp@JhA?nA@t@EpAOxAQrAExAE`BD|@FbBK|AHvA?vAAxA@|ACzAHxA?~AE|@@|ADz@@|AI`BF|@N|AB~ACjBIdB?~@@z@BzA\\zAg@bBObAJz@@~AG`ACbAEfBEtDY|AF~AH|@HzAHvAExAA|AE|@Y~Ai@~As@zAq@|@uApAaAt@w@p@kA~@eAd@sBt@kAb@qA\\_Cl@yAZuAXsAXcCb@wAV_Cb@yATmCb@yAVeC`@yAVwCf@aCj@{AT_Cd@wA\\wBr@eAd@eB|@{A~@kAdAeAhAm@t@a@t@Un@g@~@k@l@q@fA[j@m@bAq@dA]l@a@l@q@fA]n@m@hA]n@o@hAm@hAy@hAg@t@}@pAa@x@m@vAi@xA[`B[`BW|AW~AV~@t@~@hBxAhA~@|A`B`A~Ar@xA`@xAN|@R~@T|@XxAJr@Lp@H\\Lr@Pd@Lj@ThALr@EzAFz@l@pAv@vA^|@r@vAZz@`@x@v@pAdAnA`@v@j@x@hApAx@z@|@|@vAvAx@x@~@|@`A~A^`B\\bBP`AVdBV`Aj@bB~@xAx@t@zAlAdBpA~@p@jB`A`Al@zA~@`Aj@fAf@~AfA`At@~AdAt@b@x@b@RNDDAA??????????????????????????????????????????B@^Pb@Vr@b@Tf@[ZcBb@{@ZcA`@e@Nu@X]NKD??QFk@R_A^}@h@i@b@m@b@{@x@aA|@o@h@gA~@k@f@_A~@w@h@UR_@\\YVA@@??????A??????????????QP]\\g@h@w@r@c@d@c@h@e@l@y@dAiAhAi@j@g@l@m@h@cA`Ac@l@k@l@{@bAm@v@Y\\a@f@Y\\e@l@_@n@Cf@m@`A}@`Ak@l@c@l@eAdAo@r@aAhAi@p@eAhAgAjAm@n@q@p@u@r@qApAsAhAyAfAsAdAs@j@s@n@sAdAw@j@w@n@w@n@u@l@yAjA{@r@wAfAy@l@cBnAuAlAs@l@_Ap@}@j@}AbA{@d@q@b@cAn@i@Zu@l@[\\[d@QTCBABABEFIHUXUXo@f@q@ToBHcAUmA[yBSeCL}AHaBByCH_B?{AHuAPaCl@_Ch@}BZoAFmA@]Aa@Eo@KkAK_AGaBMkBOiBW{@U_AWy@UgBSiBIeAAiAEkBGgA@aAEaBCw@?s@BSZDh@Hj@BX?f@?j@AVKR_ALcAUIODK?IAGCIBE?K\r\n",
      "8,1078,541.0,567.0,2020-02-12 19:13:07,55.75577926635742,55.77210998535156,49.22772979736328,49.228370666503906,2.0,2.0,2020-02-12 19:17:20,2020-02-12 19:19:01,2020-02-12 19:28:28,55.75617760000001,49.2281419,55.756235200000006,49.2273525,55.7719603,49.229215,55.7943877,49.1115312,sxhsIixmkH?KWe@???gA??gIP??C_ISaH??qDEiC?aFMaEAwGB_AKqC?iBGQHO?aCEsCCwBGqIAcF@uRQ??A|J??lB???ClG,etmkHiyhsI?A@M?S?Sk@SS@G@B?H@@BG????A????A???@@F?C?`@?JBB@????BFBDBL?D?NGNS@g@Ba@BW@_@AWGMOAWASIKWAI?D?A?IACS?U?MB_@?QCY?[@[@O?WCKAICEWIU@g@Bw@@]?}@?s@Ag@AQAS?MAK?C?????@???@?????????????????????????????????????????C?UAs@E_AG{@GWICOHe@?a@AgACwAA{@?qAAu@?u@AoAAkAAiA?o@CcAA]AS?@A@CA??BA?C?SA]Ay@A{@@mAAwA@w@?s@@}@?[E_@Gy@?k@?q@AgAAm@Cm@?o@@o@?kA@eA?k@?g@?y@?e@?c@?i@A_A?o@Aq@?m@?_A??@s@?k@AW????CEAB??ED????@A@??KA_@?e@?]?]?Y@[@E@A???C???IAQ?K??@AB????AFM?A@@??@A?A??@?@?@?????????????????????????@ABA|@CfCAdB?h@?F@JB?TCF?@A@A@?D?D?D?F@DADAJ?HFBX?R?RA\\AD???\r\n"
     ]
    }
   ],
   "source": [
    "!head train.csv"
   ]
  },
  {
   "cell_type": "code",
   "execution_count": 16,
   "metadata": {},
   "outputs": [
    {
     "name": "stdout",
     "output_type": "stream",
     "text": [
      "'DAta to uber format.ipynb'   old_train.csv   uber-raw-data-sep14.csv\r\n",
      " citimobil_hack\t\t      train.csv\r\n"
     ]
    }
   ],
   "source": [
    "!ls"
   ]
  },
  {
   "cell_type": "code",
   "execution_count": 17,
   "metadata": {},
   "outputs": [],
   "source": [
    "df_train = pd.read_csv(\"old_train.csv\")"
   ]
  },
  {
   "cell_type": "code",
   "execution_count": 19,
   "metadata": {},
   "outputs": [
    {
     "data": {
      "text/plain": [
       "Index(['Id', 'main_id_locality', 'ETA', 'RTA', 'OrderedDate', 'latitude',\n",
       "       'del_latitude', 'longitude', 'del_longitude', 'EDA', 'RDA',\n",
       "       'ReadyForCollection', 'ClientCollected', 'GoodArrived',\n",
       "       'ready_latitude', 'ready_longitude', 'onway_latitude',\n",
       "       'onway_longitude', 'arrived_latitude', 'arrived_longitude',\n",
       "       'center_latitude', 'center_longitude', 'route', 'track'],\n",
       "      dtype='object')"
      ]
     },
     "execution_count": 19,
     "metadata": {},
     "output_type": "execute_result"
    }
   ],
   "source": [
    "df_train.columns"
   ]
  },
  {
   "cell_type": "code",
   "execution_count": 3,
   "metadata": {},
   "outputs": [
    {
     "data": {
      "text/html": [
       "<div>\n",
       "<style scoped>\n",
       "    .dataframe tbody tr th:only-of-type {\n",
       "        vertical-align: middle;\n",
       "    }\n",
       "\n",
       "    .dataframe tbody tr th {\n",
       "        vertical-align: top;\n",
       "    }\n",
       "\n",
       "    .dataframe thead th {\n",
       "        text-align: right;\n",
       "    }\n",
       "</style>\n",
       "<table border=\"1\" class=\"dataframe\">\n",
       "  <thead>\n",
       "    <tr style=\"text-align: right;\">\n",
       "      <th></th>\n",
       "      <th>Id</th>\n",
       "      <th>main_id_locality</th>\n",
       "      <th>ETA</th>\n",
       "      <th>RTA</th>\n",
       "      <th>OrderedDate</th>\n",
       "      <th>latitude</th>\n",
       "      <th>del_latitude</th>\n",
       "      <th>longitude</th>\n",
       "      <th>del_longitude</th>\n",
       "      <th>EDA</th>\n",
       "      <th>...</th>\n",
       "      <th>ready_latitude</th>\n",
       "      <th>ready_longitude</th>\n",
       "      <th>onway_latitude</th>\n",
       "      <th>onway_longitude</th>\n",
       "      <th>arrived_latitude</th>\n",
       "      <th>arrived_longitude</th>\n",
       "      <th>center_latitude</th>\n",
       "      <th>center_longitude</th>\n",
       "      <th>route</th>\n",
       "      <th>track</th>\n",
       "    </tr>\n",
       "  </thead>\n",
       "  <tbody>\n",
       "    <tr>\n",
       "      <th>0</th>\n",
       "      <td>0</td>\n",
       "      <td>1078</td>\n",
       "      <td>226.0</td>\n",
       "      <td>188.0</td>\n",
       "      <td>2020-02-12 19:12:06</td>\n",
       "      <td>55.826019</td>\n",
       "      <td>55.825581</td>\n",
       "      <td>49.134529</td>\n",
       "      <td>49.126949</td>\n",
       "      <td>1.0</td>\n",
       "      <td>...</td>\n",
       "      <td>55.825647</td>\n",
       "      <td>49.134115</td>\n",
       "      <td>55.826261</td>\n",
       "      <td>49.134137</td>\n",
       "      <td>55.825707</td>\n",
       "      <td>49.127136</td>\n",
       "      <td>55.794388</td>\n",
       "      <td>49.111531</td>\n",
       "      <td>gnvsIaq{jHChA??uC???OPG^F^NRzKBd@AN[r@???`@`@`...</td>\n",
       "      <td>io{jHkivsID_A??A}@i@m@I]^SFKBK@AD@@????A?@??A@...</td>\n",
       "    </tr>\n",
       "    <tr>\n",
       "      <th>1</th>\n",
       "      <td>1</td>\n",
       "      <td>1078</td>\n",
       "      <td>718.0</td>\n",
       "      <td>725.0</td>\n",
       "      <td>2020-02-12 19:12:22</td>\n",
       "      <td>55.795502</td>\n",
       "      <td>55.820911</td>\n",
       "      <td>49.131470</td>\n",
       "      <td>49.115360</td>\n",
       "      <td>5.0</td>\n",
       "      <td>...</td>\n",
       "      <td>55.795591</td>\n",
       "      <td>49.132281</td>\n",
       "      <td>55.795544</td>\n",
       "      <td>49.131552</td>\n",
       "      <td>55.821531</td>\n",
       "      <td>49.115685</td>\n",
       "      <td>55.794388</td>\n",
       "      <td>49.111531</td>\n",
       "      <td>sqpsI}~zjHyAr]e@lMk@fLaBlb@i@rLKhBCdAUxEGlCg@f...</td>\n",
       "      <td>qh{jHappsIAAA?\\EVSLAC@r@I????h@ERAL?R?x@Cf@ARD...</td>\n",
       "    </tr>\n",
       "    <tr>\n",
       "      <th>2</th>\n",
       "      <td>2</td>\n",
       "      <td>1078</td>\n",
       "      <td>612.0</td>\n",
       "      <td>764.0</td>\n",
       "      <td>2020-02-12 19:12:44</td>\n",
       "      <td>55.791050</td>\n",
       "      <td>55.819962</td>\n",
       "      <td>49.226070</td>\n",
       "      <td>49.176628</td>\n",
       "      <td>5.0</td>\n",
       "      <td>...</td>\n",
       "      <td>55.791099</td>\n",
       "      <td>49.226066</td>\n",
       "      <td>55.791099</td>\n",
       "      <td>49.226066</td>\n",
       "      <td>55.819765</td>\n",
       "      <td>49.177432</td>\n",
       "      <td>55.794388</td>\n",
       "      <td>49.111531</td>\n",
       "      <td>auosI}mmkH?LHd@KhC??o@w@[g@m@iAUk@??{G|OiB`Ek@...</td>\n",
       "      <td>}mmkHkuosI????????????????????????????????K?O@...</td>\n",
       "    </tr>\n",
       "    <tr>\n",
       "      <th>3</th>\n",
       "      <td>3</td>\n",
       "      <td>1078</td>\n",
       "      <td>1560.0</td>\n",
       "      <td>1412.0</td>\n",
       "      <td>2020-02-12 19:12:44</td>\n",
       "      <td>55.753899</td>\n",
       "      <td>55.824680</td>\n",
       "      <td>49.188519</td>\n",
       "      <td>49.093700</td>\n",
       "      <td>13.0</td>\n",
       "      <td>...</td>\n",
       "      <td>55.754116</td>\n",
       "      <td>49.188853</td>\n",
       "      <td>55.754116</td>\n",
       "      <td>49.188853</td>\n",
       "      <td>55.824734</td>\n",
       "      <td>49.094013</td>\n",
       "      <td>55.794388</td>\n",
       "      <td>49.111531</td>\n",
       "      <td>{lhsIiffkHmKN_C?mIPwMJ??Si@gA{B??Wq@MRCJTp@hAd...</td>\n",
       "      <td>gefkH{{hsIQr@Gn@GlAAr@Ct@@^@J@ZFf@FVHHDD??????...</td>\n",
       "    </tr>\n",
       "    <tr>\n",
       "      <th>4</th>\n",
       "      <td>4</td>\n",
       "      <td>1078</td>\n",
       "      <td>1528.0</td>\n",
       "      <td>893.0</td>\n",
       "      <td>2020-02-12 19:12:45</td>\n",
       "      <td>55.822361</td>\n",
       "      <td>55.786758</td>\n",
       "      <td>49.069092</td>\n",
       "      <td>49.143501</td>\n",
       "      <td>9.0</td>\n",
       "      <td>...</td>\n",
       "      <td>55.822483</td>\n",
       "      <td>49.069659</td>\n",
       "      <td>55.822617</td>\n",
       "      <td>49.069229</td>\n",
       "      <td>55.786936</td>\n",
       "      <td>49.143330</td>\n",
       "      <td>55.794388</td>\n",
       "      <td>49.111531</td>\n",
       "      <td>yxusI{xnjHgAfG??}IuHkAqA??pIoe@VsA??dAkG`BuH??...</td>\n",
       "      <td>synjHkzusIHAA?E@C?????????????????????????DARE...</td>\n",
       "    </tr>\n",
       "  </tbody>\n",
       "</table>\n",
       "<p>5 rows × 24 columns</p>\n",
       "</div>"
      ],
      "text/plain": [
       "   Id  main_id_locality     ETA     RTA          OrderedDate   latitude  \\\n",
       "0   0              1078   226.0   188.0  2020-02-12 19:12:06  55.826019   \n",
       "1   1              1078   718.0   725.0  2020-02-12 19:12:22  55.795502   \n",
       "2   2              1078   612.0   764.0  2020-02-12 19:12:44  55.791050   \n",
       "3   3              1078  1560.0  1412.0  2020-02-12 19:12:44  55.753899   \n",
       "4   4              1078  1528.0   893.0  2020-02-12 19:12:45  55.822361   \n",
       "\n",
       "   del_latitude  longitude  del_longitude   EDA  ...  ready_latitude  \\\n",
       "0     55.825581  49.134529      49.126949   1.0  ...       55.825647   \n",
       "1     55.820911  49.131470      49.115360   5.0  ...       55.795591   \n",
       "2     55.819962  49.226070      49.176628   5.0  ...       55.791099   \n",
       "3     55.824680  49.188519      49.093700  13.0  ...       55.754116   \n",
       "4     55.786758  49.069092      49.143501   9.0  ...       55.822483   \n",
       "\n",
       "  ready_longitude onway_latitude onway_longitude  arrived_latitude  \\\n",
       "0       49.134115      55.826261       49.134137         55.825707   \n",
       "1       49.132281      55.795544       49.131552         55.821531   \n",
       "2       49.226066      55.791099       49.226066         55.819765   \n",
       "3       49.188853      55.754116       49.188853         55.824734   \n",
       "4       49.069659      55.822617       49.069229         55.786936   \n",
       "\n",
       "   arrived_longitude  center_latitude  center_longitude  \\\n",
       "0          49.127136        55.794388         49.111531   \n",
       "1          49.115685        55.794388         49.111531   \n",
       "2          49.177432        55.794388         49.111531   \n",
       "3          49.094013        55.794388         49.111531   \n",
       "4          49.143330        55.794388         49.111531   \n",
       "\n",
       "                                               route  \\\n",
       "0  gnvsIaq{jHChA??uC???OPG^F^NRzKBd@AN[r@???`@`@`...   \n",
       "1  sqpsI}~zjHyAr]e@lMk@fLaBlb@i@rLKhBCdAUxEGlCg@f...   \n",
       "2  auosI}mmkH?LHd@KhC??o@w@[g@m@iAUk@??{G|OiB`Ek@...   \n",
       "3  {lhsIiffkHmKN_C?mIPwMJ??Si@gA{B??Wq@MRCJTp@hAd...   \n",
       "4  yxusI{xnjHgAfG??}IuHkAqA??pIoe@VsA??dAkG`BuH??...   \n",
       "\n",
       "                                               track  \n",
       "0  io{jHkivsID_A??A}@i@m@I]^SFKBK@AD@@????A?@??A@...  \n",
       "1  qh{jHappsIAAA?\\EVSLAC@r@I????h@ERAL?R?x@Cf@ARD...  \n",
       "2  }mmkHkuosI????????????????????????????????K?O@...  \n",
       "3  gefkH{{hsIQr@Gn@GlAAr@Ct@@^@J@ZFf@FVHHDD??????...  \n",
       "4  synjHkzusIHAA?E@C?????????????????????????DARE...  \n",
       "\n",
       "[5 rows x 24 columns]"
      ]
     },
     "execution_count": 3,
     "metadata": {},
     "output_type": "execute_result"
    }
   ],
   "source": [
    "df = pd.read_csv(\"train.csv\")\n",
    "df.head()"
   ]
  },
  {
   "cell_type": "code",
   "execution_count": 52,
   "metadata": {},
   "outputs": [],
   "source": [
    "import dateparser"
   ]
  },
  {
   "cell_type": "code",
   "execution_count": 4,
   "metadata": {},
   "outputs": [],
   "source": [
    "df['OrderedDate'] = pd.to_datetime(df[\"OrderedDate\"])"
   ]
  },
  {
   "cell_type": "code",
   "execution_count": 5,
   "metadata": {},
   "outputs": [],
   "source": [
    "df['Date/Time'] = df['OrderedDate'].apply(lambda x: x.strftime(\"%-m/%-d/%y %H:%M:%S\"))"
   ]
  },
  {
   "cell_type": "code",
   "execution_count": 6,
   "metadata": {},
   "outputs": [
    {
     "data": {
      "text/plain": [
       "0         2/12/20 19:12:06\n",
       "1         2/12/20 19:12:22\n",
       "2         2/12/20 19:12:44\n",
       "3         2/12/20 19:12:44\n",
       "4         2/12/20 19:12:45\n",
       "                ...       \n",
       "837123     2/5/20 10:07:30\n",
       "837124     2/5/20 10:08:00\n",
       "837125     2/5/20 10:08:19\n",
       "837126     2/5/20 10:08:49\n",
       "837127     2/5/20 10:09:01\n",
       "Name: Date/Time, Length: 837128, dtype: object"
      ]
     },
     "execution_count": 6,
     "metadata": {},
     "output_type": "execute_result"
    }
   ],
   "source": [
    "df['Date/Time']"
   ]
  },
  {
   "cell_type": "code",
   "execution_count": 7,
   "metadata": {},
   "outputs": [],
   "source": [
    "# df['Date/Time']\n",
    "df['Lat'] = df['latitude']\n",
    "df['Lon'] = df['longitude']\n",
    "df['Base'] = df['longitude'].apply(lambda x: \"B02512\")"
   ]
  },
  {
   "cell_type": "code",
   "execution_count": 44,
   "metadata": {},
   "outputs": [
    {
     "name": "stdout",
     "output_type": "stream",
     "text": [
      "app.py\tekab.csv  krasnodar.csv  tol.csv  ufa.csv\r\n"
     ]
    }
   ],
   "source": [
    "\n",
    "!ls citimobil_hack"
   ]
  },
  {
   "cell_type": "code",
   "execution_count": 13,
   "metadata": {},
   "outputs": [
    {
     "data": {
      "text/html": [
       "<div>\n",
       "<style scoped>\n",
       "    .dataframe tbody tr th:only-of-type {\n",
       "        vertical-align: middle;\n",
       "    }\n",
       "\n",
       "    .dataframe tbody tr th {\n",
       "        vertical-align: top;\n",
       "    }\n",
       "\n",
       "    .dataframe thead th {\n",
       "        text-align: right;\n",
       "    }\n",
       "</style>\n",
       "<table border=\"1\" class=\"dataframe\">\n",
       "  <thead>\n",
       "    <tr style=\"text-align: right;\">\n",
       "      <th></th>\n",
       "      <th>Id</th>\n",
       "      <th>main_id_locality</th>\n",
       "      <th>ETA</th>\n",
       "      <th>RTA</th>\n",
       "      <th>OrderedDate</th>\n",
       "      <th>latitude</th>\n",
       "      <th>del_latitude</th>\n",
       "      <th>longitude</th>\n",
       "      <th>del_longitude</th>\n",
       "      <th>EDA</th>\n",
       "      <th>...</th>\n",
       "      <th>arrived_latitude</th>\n",
       "      <th>arrived_longitude</th>\n",
       "      <th>center_latitude</th>\n",
       "      <th>center_longitude</th>\n",
       "      <th>route</th>\n",
       "      <th>track</th>\n",
       "      <th>Date/Time</th>\n",
       "      <th>Lat</th>\n",
       "      <th>Lon</th>\n",
       "      <th>Base</th>\n",
       "    </tr>\n",
       "  </thead>\n",
       "  <tbody>\n",
       "    <tr>\n",
       "      <th>634295</th>\n",
       "      <td>629503</td>\n",
       "      <td>22438</td>\n",
       "      <td>385.0</td>\n",
       "      <td>307.0</td>\n",
       "      <td>2020-03-10 00:02:43</td>\n",
       "      <td>57.995140</td>\n",
       "      <td>58.005760</td>\n",
       "      <td>56.209782</td>\n",
       "      <td>56.197311</td>\n",
       "      <td>2.0</td>\n",
       "      <td>...</td>\n",
       "      <td>58.006029</td>\n",
       "      <td>56.197817</td>\n",
       "      <td>58.010321</td>\n",
       "      <td>56.234178</td>\n",
       "      <td>sd~`JenavIJnAGTHt@??c@Ny@`@uBv@k@Rw@N[Ao@Uc@?u...</td>\n",
       "      <td>ooavIge~`JQBABDFD@@?AFAB?@??BB?FDDHHHPANKFIAI_...</td>\n",
       "      <td>3/10/20 00:02:43</td>\n",
       "      <td>57.995140</td>\n",
       "      <td>56.209782</td>\n",
       "      <td>B02512</td>\n",
       "    </tr>\n",
       "    <tr>\n",
       "      <th>634296</th>\n",
       "      <td>629504</td>\n",
       "      <td>22438</td>\n",
       "      <td>404.0</td>\n",
       "      <td>277.0</td>\n",
       "      <td>2020-03-10 00:03:32</td>\n",
       "      <td>57.994591</td>\n",
       "      <td>58.007690</td>\n",
       "      <td>56.208618</td>\n",
       "      <td>56.211658</td>\n",
       "      <td>2.0</td>\n",
       "      <td>...</td>\n",
       "      <td>58.007019</td>\n",
       "      <td>56.211743</td>\n",
       "      <td>58.010321</td>\n",
       "      <td>56.234178</td>\n",
       "      <td>qb~`JkdavIs@}C??c@Ny@`@uBv@k@Rw@N[Ao@Uc@?uAYuC...</td>\n",
       "      <td>cfavIkc~`J??????A@@@A?AAA?C?E?OAMCGA??SEKU????...</td>\n",
       "      <td>3/10/20 00:03:32</td>\n",
       "      <td>57.994591</td>\n",
       "      <td>56.208618</td>\n",
       "      <td>B02512</td>\n",
       "    </tr>\n",
       "    <tr>\n",
       "      <th>634297</th>\n",
       "      <td>629505</td>\n",
       "      <td>22438</td>\n",
       "      <td>554.0</td>\n",
       "      <td>304.0</td>\n",
       "      <td>2020-03-10 00:04:10</td>\n",
       "      <td>58.003551</td>\n",
       "      <td>57.988800</td>\n",
       "      <td>56.229118</td>\n",
       "      <td>56.257431</td>\n",
       "      <td>3.0</td>\n",
       "      <td>...</td>\n",
       "      <td>57.988422</td>\n",
       "      <td>56.258118</td>\n",
       "      <td>58.010321</td>\n",
       "      <td>56.234178</td>\n",
       "      <td>gy_aJagevIm@yF??`A}@??rAm@Ne@Lo@@g@Cg@Sg@AeBKk...</td>\n",
       "      <td>sfevIoy_aJ????????????????@?GFY?c@Cq@E_@EgAKoA...</td>\n",
       "      <td>3/10/20 00:04:10</td>\n",
       "      <td>58.003551</td>\n",
       "      <td>56.229118</td>\n",
       "      <td>B02512</td>\n",
       "    </tr>\n",
       "    <tr>\n",
       "      <th>634298</th>\n",
       "      <td>629506</td>\n",
       "      <td>22438</td>\n",
       "      <td>523.0</td>\n",
       "      <td>359.0</td>\n",
       "      <td>2020-03-10 00:05:45</td>\n",
       "      <td>57.976250</td>\n",
       "      <td>57.966179</td>\n",
       "      <td>56.172581</td>\n",
       "      <td>56.195301</td>\n",
       "      <td>3.0</td>\n",
       "      <td>...</td>\n",
       "      <td>57.966103</td>\n",
       "      <td>56.195779</td>\n",
       "      <td>58.010321</td>\n",
       "      <td>56.234178</td>\n",
       "      <td>coz`J_ezuIj@hC??z@aAzD}DnAkAhIoIrE}EfD_D|E_F??...</td>\n",
       "      <td>gezuIeoz`JF@@?????????????????????????????????...</td>\n",
       "      <td>3/10/20 00:05:45</td>\n",
       "      <td>57.976250</td>\n",
       "      <td>56.172581</td>\n",
       "      <td>B02512</td>\n",
       "    </tr>\n",
       "    <tr>\n",
       "      <th>634299</th>\n",
       "      <td>629507</td>\n",
       "      <td>22438</td>\n",
       "      <td>1550.0</td>\n",
       "      <td>990.0</td>\n",
       "      <td>2020-03-10 00:07:01</td>\n",
       "      <td>58.010799</td>\n",
       "      <td>57.970661</td>\n",
       "      <td>56.296982</td>\n",
       "      <td>56.204330</td>\n",
       "      <td>9.0</td>\n",
       "      <td>...</td>\n",
       "      <td>57.970600</td>\n",
       "      <td>56.204544</td>\n",
       "      <td>58.010321</td>\n",
       "      <td>56.234178</td>\n",
       "      <td>ofaaJcorvI_@?Ao@e@EAq@cBB??nAdK??bAC??LzCNLDjC...</td>\n",
       "      <td>eprvIwgaaJ@@AA@??@FHDBFBF???@?@???@?B??A@??A??...</td>\n",
       "      <td>3/10/20 00:07:01</td>\n",
       "      <td>58.010799</td>\n",
       "      <td>56.296982</td>\n",
       "      <td>B02512</td>\n",
       "    </tr>\n",
       "  </tbody>\n",
       "</table>\n",
       "<p>5 rows × 28 columns</p>\n",
       "</div>"
      ],
      "text/plain": [
       "            Id  main_id_locality     ETA    RTA         OrderedDate  \\\n",
       "634295  629503             22438   385.0  307.0 2020-03-10 00:02:43   \n",
       "634296  629504             22438   404.0  277.0 2020-03-10 00:03:32   \n",
       "634297  629505             22438   554.0  304.0 2020-03-10 00:04:10   \n",
       "634298  629506             22438   523.0  359.0 2020-03-10 00:05:45   \n",
       "634299  629507             22438  1550.0  990.0 2020-03-10 00:07:01   \n",
       "\n",
       "         latitude  del_latitude  longitude  del_longitude  EDA  ...  \\\n",
       "634295  57.995140     58.005760  56.209782      56.197311  2.0  ...   \n",
       "634296  57.994591     58.007690  56.208618      56.211658  2.0  ...   \n",
       "634297  58.003551     57.988800  56.229118      56.257431  3.0  ...   \n",
       "634298  57.976250     57.966179  56.172581      56.195301  3.0  ...   \n",
       "634299  58.010799     57.970661  56.296982      56.204330  9.0  ...   \n",
       "\n",
       "        arrived_latitude arrived_longitude center_latitude center_longitude  \\\n",
       "634295         58.006029         56.197817       58.010321        56.234178   \n",
       "634296         58.007019         56.211743       58.010321        56.234178   \n",
       "634297         57.988422         56.258118       58.010321        56.234178   \n",
       "634298         57.966103         56.195779       58.010321        56.234178   \n",
       "634299         57.970600         56.204544       58.010321        56.234178   \n",
       "\n",
       "                                                    route  \\\n",
       "634295  sd~`JenavIJnAGTHt@??c@Ny@`@uBv@k@Rw@N[Ao@Uc@?u...   \n",
       "634296  qb~`JkdavIs@}C??c@Ny@`@uBv@k@Rw@N[Ao@Uc@?uAYuC...   \n",
       "634297  gy_aJagevIm@yF??`A}@??rAm@Ne@Lo@@g@Cg@Sg@AeBKk...   \n",
       "634298  coz`J_ezuIj@hC??z@aAzD}DnAkAhIoIrE}EfD_D|E_F??...   \n",
       "634299  ofaaJcorvI_@?Ao@e@EAq@cBB??nAdK??bAC??LzCNLDjC...   \n",
       "\n",
       "                                                    track         Date/Time  \\\n",
       "634295  ooavIge~`JQBABDFD@@?AFAB?@??BB?FDDHHHPANKFIAI_...  3/10/20 00:02:43   \n",
       "634296  cfavIkc~`J??????A@@@A?AAA?C?E?OAMCGA??SEKU????...  3/10/20 00:03:32   \n",
       "634297  sfevIoy_aJ????????????????@?GFY?c@Cq@E_@EgAKoA...  3/10/20 00:04:10   \n",
       "634298  gezuIeoz`JF@@?????????????????????????????????...  3/10/20 00:05:45   \n",
       "634299  eprvIwgaaJ@@AA@??@FHDBFBF???@?@???@?B??A@??A??...  3/10/20 00:07:01   \n",
       "\n",
       "              Lat        Lon    Base  \n",
       "634295  57.995140  56.209782  B02512  \n",
       "634296  57.994591  56.208618  B02512  \n",
       "634297  58.003551  56.229118  B02512  \n",
       "634298  57.976250  56.172581  B02512  \n",
       "634299  58.010799  56.296982  B02512  \n",
       "\n",
       "[5 rows x 28 columns]"
      ]
     },
     "execution_count": 13,
     "metadata": {},
     "output_type": "execute_result"
    }
   ],
   "source": [
    "df[df['main_id_locality']==22438].head()"
   ]
  },
  {
   "cell_type": "code",
   "execution_count": 8,
   "metadata": {},
   "outputs": [
    {
     "data": {
      "text/plain": [
       "array([ 1078, 22390, 22430, 22438])"
      ]
     },
     "execution_count": 8,
     "metadata": {},
     "output_type": "execute_result"
    }
   ],
   "source": [
    "df['main_id_locality'].unique()"
   ]
  },
  {
   "cell_type": "code",
   "execution_count": null,
   "metadata": {},
   "outputs": [],
   "source": [
    "1078 - Казань \n",
    "22390 - Самара \n",
    "22430 - Саратов\n",
    "22438 - Пермь"
   ]
  },
  {
   "cell_type": "code",
   "execution_count": 44,
   "metadata": {},
   "outputs": [],
   "source": [
    "ERROR = 'error_batch'\n",
    "\n",
    "df['error'] = df['error_batch']"
   ]
  },
  {
   "cell_type": "code",
   "execution_count": null,
   "metadata": {},
   "outputs": [],
   "source": []
  },
  {
   "cell_type": "code",
   "execution_count": 45,
   "metadata": {},
   "outputs": [],
   "source": [
    "df['Lat'] = df['latitude']\n",
    "df['Lon'] = df['longitude']\n",
    "df[df['main_id_locality'] == 1078].sample(10000)[['Date/Time','Lat','Lon','error']].to_csv('kazan.csv',index=False)\n",
    "df[df['main_id_locality'] == 22390].sample(10000)[['Date/Time','Lat','Lon','error']].to_csv('samara.csv',index=False)\n",
    "df[df['main_id_locality'] == 22430].sample(10000)[['Date/Time','Lat','Lon','error']].to_csv('saratov.csv',index=False)\n",
    "df[df['main_id_locality'] == 22438].sample(10000)[['Date/Time','Lat','Lon','error']].to_csv('perm.csv',index=False)\n",
    "\n",
    "df['Lat'] = df['del_latitude']\n",
    "df['Lon'] = df['del_longitude']\n",
    "df[df['main_id_locality'] == 1078].sample(10000)[['Date/Time','Lat','Lon','error']].to_csv('kazan_des.csv',index=False)\n",
    "df[df['main_id_locality'] == 22390].sample(10000)[['Date/Time','Lat','Lon','error']].to_csv('samara_des.csv',index=False)\n",
    "df[df['main_id_locality'] == 22430].sample(10000)[['Date/Time','Lat','Lon','error']].to_csv('saratov_des.csv',index=False)\n",
    "df[df['main_id_locality'] == 22438].sample(10000)[['Date/Time','Lat','Lon','error']].to_csv('perm_des.csv',index=False)"
   ]
  },
  {
   "cell_type": "code",
   "execution_count": 46,
   "metadata": {},
   "outputs": [],
   "source": []
  },
  {
   "cell_type": "code",
   "execution_count": 47,
   "metadata": {},
   "outputs": [],
   "source": []
  },
  {
   "cell_type": "code",
   "execution_count": 54,
   "metadata": {},
   "outputs": [
    {
     "data": {
      "text/plain": [
       "0          38.0\n",
       "1          -7.0\n",
       "2        -152.0\n",
       "3         148.0\n",
       "4         635.0\n",
       "          ...  \n",
       "837123     82.0\n",
       "837124    537.0\n",
       "837125     21.0\n",
       "837126    316.0\n",
       "837127    -51.0\n",
       "Name: ERROR, Length: 837128, dtype: float64"
      ]
     },
     "execution_count": 54,
     "metadata": {},
     "output_type": "execute_result"
    }
   ],
   "source": [
    "df['ERROR']"
   ]
  },
  {
   "cell_type": "code",
   "execution_count": 55,
   "metadata": {},
   "outputs": [
    {
     "data": {
      "text/plain": [
       "0          188.0\n",
       "1          725.0\n",
       "2          764.0\n",
       "3         1412.0\n",
       "4          893.0\n",
       "           ...  \n",
       "837123    1194.0\n",
       "837124    1542.0\n",
       "837125     247.0\n",
       "837126     379.0\n",
       "837127     593.0\n",
       "Name: RTA, Length: 837128, dtype: float64"
      ]
     },
     "execution_count": 55,
     "metadata": {},
     "output_type": "execute_result"
    }
   ],
   "source": [
    "df['RTA']"
   ]
  },
  {
   "cell_type": "code",
   "execution_count": 58,
   "metadata": {},
   "outputs": [],
   "source": [
    "df['error'] = ((df['ERROR']/df['RTA']).apply(abs)*10).apply(int)"
   ]
  },
  {
   "cell_type": "code",
   "execution_count": 59,
   "metadata": {},
   "outputs": [],
   "source": [
    "df['Lat'] = df['latitude']\n",
    "df['Lon'] = df['longitude']\n",
    "df[df['main_id_locality'] == 1078].sample(10000)[['Date/Time','Lat','Lon','error']].to_csv('kazan.csv',index=False)\n",
    "df[df['main_id_locality'] == 22390].sample(10000)[['Date/Time','Lat','Lon','error']].to_csv('samara.csv',index=False)\n",
    "df[df['main_id_locality'] == 22430].sample(10000)[['Date/Time','Lat','Lon','error']].to_csv('saratov.csv',index=False)\n",
    "df[df['main_id_locality'] == 22438].sample(10000)[['Date/Time','Lat','Lon','error']].to_csv('perm.csv',index=False)\n",
    "\n",
    "df['Lat'] = df['del_latitude']\n",
    "df['Lon'] = df['del_longitude']\n",
    "df[df['main_id_locality'] == 1078].sample(10000)[['Date/Time','Lat','Lon','error']].to_csv('kazan_des.csv',index=False)\n",
    "df[df['main_id_locality'] == 22390].sample(10000)[['Date/Time','Lat','Lon','error']].to_csv('samara_des.csv',index=False)\n",
    "df[df['main_id_locality'] == 22430].sample(10000)[['Date/Time','Lat','Lon','error']].to_csv('saratov_des.csv',index=False)\n",
    "df[df['main_id_locality'] == 22438].sample(10000)[['Date/Time','Lat','Lon','error']].to_csv('perm_des.csv',index=False)"
   ]
  },
  {
   "cell_type": "code",
   "execution_count": 21,
   "metadata": {},
   "outputs": [
    {
     "data": {
      "text/plain": [
       "Index(['Id', 'main_id_locality', 'ETA', 'RTA', 'OrderedDate', 'latitude',\n",
       "       'del_latitude', 'longitude', 'del_longitude', 'EDA', 'RDA',\n",
       "       'ReadyForCollection', 'ClientCollected', 'GoodArrived',\n",
       "       'ready_latitude', 'ready_longitude', 'onway_latitude',\n",
       "       'onway_longitude', 'arrived_latitude', 'arrived_longitude',\n",
       "       'center_latitude', 'center_longitude', 'route', 'track', 'Date/Time',\n",
       "       'Lat', 'Lon', 'Base'],\n",
       "      dtype='object')"
      ]
     },
     "execution_count": 21,
     "metadata": {},
     "output_type": "execute_result"
    }
   ],
   "source": [
    "df.columns"
   ]
  },
  {
   "cell_type": "code",
   "execution_count": 35,
   "metadata": {},
   "outputs": [],
   "source": [
    "df['ERROR'] = df['ETA']-df['RTA']\n",
    "df['error_batch'] = (df['ERROR']/100).apply(int).apply(abs)"
   ]
  },
  {
   "cell_type": "code",
   "execution_count": null,
   "metadata": {},
   "outputs": [],
   "source": [
    "df['ERROR'] = df['ETA']-df['RTA']"
   ]
  },
  {
   "cell_type": "code",
   "execution_count": 32,
   "metadata": {},
   "outputs": [
    {
     "data": {
      "text/plain": [
       "31"
      ]
     },
     "execution_count": 32,
     "metadata": {},
     "output_type": "execute_result"
    }
   ],
   "source": []
  },
  {
   "cell_type": "code",
   "execution_count": 38,
   "metadata": {},
   "outputs": [
    {
     "name": "stdout",
     "output_type": "stream",
     "text": [
      "'DAta to uber format.ipynb'   old_train.csv   uber-raw-data-sep14.csv\r\n",
      " citimobil_hack\t\t      train.csv\r\n"
     ]
    }
   ],
   "source": [
    "!ls"
   ]
  },
  {
   "cell_type": "code",
   "execution_count": 39,
   "metadata": {},
   "outputs": [
    {
     "name": "stdout",
     "output_type": "stream",
     "text": [
      "app.py\tkazan.csv  perm.csv  samara.csv  saratov.csv\r\n"
     ]
    }
   ],
   "source": [
    "!ls citimobil_hack\n"
   ]
  },
  {
   "cell_type": "code",
   "execution_count": 42,
   "metadata": {},
   "outputs": [
    {
     "data": {
      "text/html": [
       "<div>\n",
       "<style scoped>\n",
       "    .dataframe tbody tr th:only-of-type {\n",
       "        vertical-align: middle;\n",
       "    }\n",
       "\n",
       "    .dataframe tbody tr th {\n",
       "        vertical-align: top;\n",
       "    }\n",
       "\n",
       "    .dataframe thead th {\n",
       "        text-align: right;\n",
       "    }\n",
       "</style>\n",
       "<table border=\"1\" class=\"dataframe\">\n",
       "  <thead>\n",
       "    <tr style=\"text-align: right;\">\n",
       "      <th></th>\n",
       "      <th>Date/Time</th>\n",
       "      <th>Lat</th>\n",
       "      <th>Lon</th>\n",
       "      <th>error_batch</th>\n",
       "    </tr>\n",
       "  </thead>\n",
       "  <tbody>\n",
       "    <tr>\n",
       "      <th>0</th>\n",
       "      <td>2/11/20 14:15:46</td>\n",
       "      <td>51.523201</td>\n",
       "      <td>46.030842</td>\n",
       "      <td>1</td>\n",
       "    </tr>\n",
       "    <tr>\n",
       "      <th>1</th>\n",
       "      <td>2/3/20 19:12:28</td>\n",
       "      <td>51.489059</td>\n",
       "      <td>46.126282</td>\n",
       "      <td>0</td>\n",
       "    </tr>\n",
       "    <tr>\n",
       "      <th>2</th>\n",
       "      <td>2/23/20 12:57:06</td>\n",
       "      <td>51.475788</td>\n",
       "      <td>46.139992</td>\n",
       "      <td>1</td>\n",
       "    </tr>\n",
       "    <tr>\n",
       "      <th>3</th>\n",
       "      <td>2/25/20 11:00:08</td>\n",
       "      <td>51.534321</td>\n",
       "      <td>46.018051</td>\n",
       "      <td>3</td>\n",
       "    </tr>\n",
       "    <tr>\n",
       "      <th>4</th>\n",
       "      <td>2/10/20 08:05:03</td>\n",
       "      <td>51.523720</td>\n",
       "      <td>46.036720</td>\n",
       "      <td>0</td>\n",
       "    </tr>\n",
       "  </tbody>\n",
       "</table>\n",
       "</div>"
      ],
      "text/plain": [
       "          Date/Time        Lat        Lon  error_batch\n",
       "0  2/11/20 14:15:46  51.523201  46.030842            1\n",
       "1   2/3/20 19:12:28  51.489059  46.126282            0\n",
       "2  2/23/20 12:57:06  51.475788  46.139992            1\n",
       "3  2/25/20 11:00:08  51.534321  46.018051            3\n",
       "4  2/10/20 08:05:03  51.523720  46.036720            0"
      ]
     },
     "execution_count": 42,
     "metadata": {},
     "output_type": "execute_result"
    }
   ],
   "source": [
    "pd.read_csv('./citimobil_hack/saratov.csv').head()"
   ]
  },
  {
   "cell_type": "code",
   "execution_count": null,
   "metadata": {},
   "outputs": [],
   "source": []
  }
 ],
 "metadata": {
  "kernelspec": {
   "display_name": "Python 3",
   "language": "python",
   "name": "python3"
  },
  "language_info": {
   "codemirror_mode": {
    "name": "ipython",
    "version": 3
   },
   "file_extension": ".py",
   "mimetype": "text/x-python",
   "name": "python",
   "nbconvert_exporter": "python",
   "pygments_lexer": "ipython3",
   "version": "3.7.6"
  }
 },
 "nbformat": 4,
 "nbformat_minor": 4
}
